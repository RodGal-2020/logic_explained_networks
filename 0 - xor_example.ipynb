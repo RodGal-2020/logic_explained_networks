{
 "cells": [
  {
   "cell_type": "code",
   "execution_count": null,
   "metadata": {},
   "outputs": [],
   "source": [
    "# !pip install -r requirements.txt"
   ]
  },
  {
   "cell_type": "markdown",
   "metadata": {},
   "source": [
    "## Import LENs"
   ]
  },
  {
   "cell_type": "code",
   "execution_count": 2,
   "metadata": {},
   "outputs": [],
   "source": [
    "import torch"
   ]
  },
  {
   "cell_type": "code",
   "execution_count": 7,
   "metadata": {
    "pycharm": {
     "name": "#%%\n"
    }
   },
   "outputs": [],
   "source": [
    "import lens\n",
    "# Hardly modified to work"
   ]
  },
  {
   "cell_type": "markdown",
   "metadata": {},
   "source": [
    "## Create train, validation and test datasets\n",
    "Let's create a XOR-like datasets with 2 redundant features (the 3rd and 4th)."
   ]
  },
  {
   "cell_type": "code",
   "execution_count": 8,
   "metadata": {
    "pycharm": {
     "name": "#%%\n"
    }
   },
   "outputs": [],
   "source": [
    "lens.utils.base.set_seed(0)\n",
    "x = torch.rand([100, 4])\n",
    "y = (x[:, 0] > 0.5) & (x[:, 1] < 0.5) | \\\n",
    "    (x[:, 0] < 0.5) & (x[:, 1] > 0.5)\n",
    "\n",
    "data = torch.utils.data.TensorDataset(x, y)\n",
    "\n",
    "train_data, val_data, test_data = torch.utils.data.random_split(data, [80, 10, 10])\n",
    "x_train, y_train = data[train_data.indices]\n",
    "x_val, y_val = data[val_data.indices]\n",
    "x_test, y_test = data[test_data.indices]"
   ]
  },
  {
   "attachments": {},
   "cell_type": "markdown",
   "metadata": {},
   "source": [
    "### Hardcore mode\n",
    "Let's see what is returned when the dataset is made with errors on purpose."
   ]
  },
  {
   "cell_type": "code",
   "execution_count": 37,
   "metadata": {},
   "outputs": [],
   "source": [
    "lens.utils.base.set_seed(0)\n",
    "x = torch.rand([100, 4])\n",
    "y = (x[:, 0] > 0.5) & (x[:, 1] < 0.5) | \\\n",
    "    (x[:, 0] < 0.5) & (x[:, 1] > 0.5)\n",
    "\n",
    "# Change 50 results\n",
    "for i in range(50):\n",
    "  y[i] = not y[i] # UPSI\n",
    "y\n",
    "\n",
    "data = torch.utils.data.TensorDataset(x, y)\n",
    "\n",
    "train_data, val_data, test_data = torch.utils.data.random_split(data, [80, 10, 10])\n",
    "x_train, y_train = data[train_data.indices]\n",
    "x_val, y_val = data[val_data.indices]\n",
    "x_test, y_test = data[test_data.indices]"
   ]
  },
  {
   "attachments": {},
   "cell_type": "markdown",
   "metadata": {},
   "source": [
    "With those results, as we should expect, a new explanation is given."
   ]
  },
  {
   "attachments": {},
   "cell_type": "markdown",
   "metadata": {},
   "source": [
    "## Instantiate a XMuNN\n",
    "X for eXplainable."
   ]
  },
  {
   "cell_type": "code",
   "execution_count": 38,
   "metadata": {
    "pycharm": {
     "name": "#%%\n"
    }
   },
   "outputs": [],
   "source": [
    "model = lens.models.XMuNN(n_classes=2, \n",
    "                          n_features=4,\n",
    "                          hidden_neurons=[10], \n",
    "                          loss=torch.nn.CrossEntropyLoss())"
   ]
  },
  {
   "cell_type": "markdown",
   "metadata": {},
   "source": [
    "## Train the model"
   ]
  },
  {
   "cell_type": "code",
   "execution_count": 39,
   "metadata": {
    "pycharm": {
     "name": "#%%\n"
    }
   },
   "outputs": [
    {
     "name": "stdout",
     "output_type": "stream",
     "text": [
      "Epoch: 1/100, Loss: 0.715, Tr_acc: 38.75, Val_acc: 40.00, best_e: -1\n",
      "Epoch: 2/100, Loss: 0.762, Tr_acc: 56.25, Val_acc: 40.00, best_e: -1\n",
      "Epoch: 3/100, Loss: 0.689, Tr_acc: 56.25, Val_acc: 30.00, best_e: -1\n",
      "Epoch: 4/100, Loss: 0.688, Tr_acc: 60.00, Val_acc: 30.00, best_e: -1\n",
      "Epoch: 5/100, Loss: 0.684, Tr_acc: 57.50, Val_acc: 40.00, best_e: -1\n",
      "Epoch: 6/100, Loss: 0.671, Tr_acc: 57.50, Val_acc: 30.00, best_e: -1\n",
      "Epoch: 7/100, Loss: 0.663, Tr_acc: 61.25, Val_acc: 30.00, best_e: -1\n",
      "Epoch: 8/100, Loss: 0.659, Tr_acc: 62.50, Val_acc: 40.00, best_e: -1\n",
      "Epoch: 9/100, Loss: 0.652, Tr_acc: 61.25, Val_acc: 20.00, best_e: -1\n",
      "Epoch: 10/100, Loss: 0.651, Tr_acc: 55.00, Val_acc: 30.00, best_e: -1\n",
      "Epoch: 11/100, Loss: 0.644, Tr_acc: 56.25, Val_acc: 40.00, best_e: -1\n",
      "Epoch: 12/100, Loss: 0.646, Tr_acc: 60.00, Val_acc: 40.00, best_e: -1\n",
      "Epoch: 13/100, Loss: 0.640, Tr_acc: 61.25, Val_acc: 20.00, best_e: -1\n",
      "Epoch: 14/100, Loss: 0.641, Tr_acc: 58.75, Val_acc: 30.00, best_e: -1\n",
      "Epoch: 15/100, Loss: 0.638, Tr_acc: 57.50, Val_acc: 30.00, best_e: -1\n",
      "Epoch: 16/100, Loss: 0.636, Tr_acc: 62.50, Val_acc: 30.00, best_e: -1\n",
      "Epoch: 17/100, Loss: 0.634, Tr_acc: 62.50, Val_acc: 30.00, best_e: -1\n",
      "Epoch: 18/100, Loss: 0.631, Tr_acc: 61.25, Val_acc: 20.00, best_e: -1\n",
      "Epoch: 19/100, Loss: 0.630, Tr_acc: 58.75, Val_acc: 40.00, best_e: -1\n",
      "Epoch: 20/100, Loss: 0.626, Tr_acc: 61.25, Val_acc: 40.00, best_e: -1\n",
      "Epoch: 21/100, Loss: 0.623, Tr_acc: 60.00, Val_acc: 40.00, best_e: -1\n",
      "Epoch: 22/100, Loss: 0.621, Tr_acc: 61.25, Val_acc: 30.00, best_e: -1\n",
      "Epoch: 23/100, Loss: 0.618, Tr_acc: 62.50, Val_acc: 40.00, best_e: -1\n",
      "Epoch: 24/100, Loss: 0.614, Tr_acc: 63.75, Val_acc: 40.00, best_e: -1\n",
      "Epoch: 25/100, Loss: 0.611, Tr_acc: 61.25, Val_acc: 40.00, best_e: -1\n",
      "Epoch: 26/100, Loss: 0.606, Tr_acc: 68.75, Val_acc: 30.00, best_e: -1\n",
      "Epoch: 27/100, Loss: 0.603, Tr_acc: 67.50, Val_acc: 40.00, best_e: -1\n",
      "Epoch: 28/100, Loss: 0.597, Tr_acc: 68.75, Val_acc: 40.00, best_e: -1\n",
      "Epoch: 29/100, Loss: 0.591, Tr_acc: 70.00, Val_acc: 40.00, best_e: -1\n",
      "Epoch: 30/100, Loss: 0.587, Tr_acc: 70.00, Val_acc: 40.00, best_e: -1\n",
      "Epoch: 31/100, Loss: 0.584, Tr_acc: 71.25, Val_acc: 40.00, best_e: -1\n",
      "Epoch: 32/100, Loss: 0.580, Tr_acc: 70.00, Val_acc: 40.00, best_e: -1\n",
      "Epoch: 33/100, Loss: 0.577, Tr_acc: 71.25, Val_acc: 40.00, best_e: -1\n",
      "Epoch: 34/100, Loss: 0.573, Tr_acc: 71.25, Val_acc: 40.00, best_e: -1\n",
      "Epoch: 35/100, Loss: 0.571, Tr_acc: 70.00, Val_acc: 40.00, best_e: -1\n",
      "Epoch: 36/100, Loss: 0.569, Tr_acc: 73.75, Val_acc: 50.00, best_e: -1\n",
      "Epoch: 37/100, Loss: 0.568, Tr_acc: 76.25, Val_acc: 50.00, best_e: -1\n",
      "Epoch: 38/100, Loss: 0.567, Tr_acc: 73.75, Val_acc: 50.00, best_e: -1\n",
      "Epoch: 39/100, Loss: 0.566, Tr_acc: 73.75, Val_acc: 50.00, best_e: -1\n",
      "Epoch: 40/100, Loss: 0.564, Tr_acc: 75.00, Val_acc: 50.00, best_e: -1\n",
      "Epoch: 41/100, Loss: 0.563, Tr_acc: 75.00, Val_acc: 50.00, best_e: -1\n",
      "Epoch: 42/100, Loss: 0.562, Tr_acc: 75.00, Val_acc: 50.00, best_e: -1\n",
      "Epoch: 43/100, Loss: 0.562, Tr_acc: 75.00, Val_acc: 50.00, best_e: -1\n",
      "Epoch: 44/100, Loss: 0.561, Tr_acc: 75.00, Val_acc: 50.00, best_e: -1\n",
      "Epoch: 45/100, Loss: 0.560, Tr_acc: 75.00, Val_acc: 70.00, best_e: -1\n",
      "Epoch: 46/100, Loss: 0.559, Tr_acc: 73.75, Val_acc: 50.00, best_e: -1\n",
      "Epoch: 47/100, Loss: 0.561, Tr_acc: 72.50, Val_acc: 70.00, best_e: -1\n",
      "Epoch: 48/100, Loss: 0.563, Tr_acc: 73.75, Val_acc: 50.00, best_e: -1\n",
      "Epoch: 49/100, Loss: 0.560, Tr_acc: 73.75, Val_acc: 50.00, best_e: -1\n",
      "Pruned 1/4 features\n",
      "Pruned 1/4 features\n",
      "Pruned features\n",
      "Epoch: 50/100, Loss: 0.556, Tr_acc: 76.25, Val_acc: 60.00, best_e: -1\n",
      "Epoch: 51/100, Loss: 0.894, Tr_acc: 58.75, Val_acc: 50.00, best_e: 51\n",
      "Epoch: 52/100, Loss: 0.705, Tr_acc: 67.50, Val_acc: 50.00, best_e: 52\n",
      "Epoch: 53/100, Loss: 0.765, Tr_acc: 61.25, Val_acc: 50.00, best_e: 53\n",
      "Epoch: 54/100, Loss: 0.649, Tr_acc: 65.00, Val_acc: 60.00, best_e: 54\n",
      "Epoch: 55/100, Loss: 0.594, Tr_acc: 72.50, Val_acc: 60.00, best_e: 55\n",
      "Epoch: 56/100, Loss: 0.647, Tr_acc: 62.50, Val_acc: 50.00, best_e: 55\n",
      "Epoch: 57/100, Loss: 0.673, Tr_acc: 58.75, Val_acc: 60.00, best_e: 57\n",
      "Epoch: 58/100, Loss: 0.639, Tr_acc: 63.75, Val_acc: 60.00, best_e: 58\n",
      "Epoch: 59/100, Loss: 0.604, Tr_acc: 63.75, Val_acc: 60.00, best_e: 59\n",
      "Epoch: 60/100, Loss: 0.609, Tr_acc: 70.00, Val_acc: 50.00, best_e: 59\n",
      "Epoch: 61/100, Loss: 0.625, Tr_acc: 71.25, Val_acc: 50.00, best_e: 59\n",
      "Epoch: 62/100, Loss: 0.614, Tr_acc: 70.00, Val_acc: 50.00, best_e: 59\n",
      "Epoch: 63/100, Loss: 0.593, Tr_acc: 70.00, Val_acc: 60.00, best_e: 63\n",
      "Epoch: 64/100, Loss: 0.590, Tr_acc: 73.75, Val_acc: 60.00, best_e: 64\n",
      "Epoch: 65/100, Loss: 0.604, Tr_acc: 65.00, Val_acc: 60.00, best_e: 65\n",
      "Epoch: 66/100, Loss: 0.605, Tr_acc: 67.50, Val_acc: 60.00, best_e: 66\n",
      "Epoch: 67/100, Loss: 0.594, Tr_acc: 68.75, Val_acc: 60.00, best_e: 67\n",
      "Epoch: 68/100, Loss: 0.584, Tr_acc: 70.00, Val_acc: 60.00, best_e: 68\n",
      "Epoch: 69/100, Loss: 0.586, Tr_acc: 68.75, Val_acc: 60.00, best_e: 69\n",
      "Epoch: 70/100, Loss: 0.584, Tr_acc: 70.00, Val_acc: 60.00, best_e: 70\n",
      "Epoch: 71/100, Loss: 0.576, Tr_acc: 75.00, Val_acc: 60.00, best_e: 71\n",
      "Epoch: 72/100, Loss: 0.574, Tr_acc: 70.00, Val_acc: 60.00, best_e: 72\n",
      "Epoch: 73/100, Loss: 0.578, Tr_acc: 70.00, Val_acc: 60.00, best_e: 73\n",
      "Epoch: 74/100, Loss: 0.578, Tr_acc: 71.25, Val_acc: 60.00, best_e: 74\n",
      "Epoch: 75/100, Loss: 0.574, Tr_acc: 71.25, Val_acc: 60.00, best_e: 75\n",
      "Epoch: 76/100, Loss: 0.571, Tr_acc: 77.50, Val_acc: 60.00, best_e: 76\n",
      "Epoch: 77/100, Loss: 0.572, Tr_acc: 76.25, Val_acc: 60.00, best_e: 77\n",
      "Epoch: 78/100, Loss: 0.572, Tr_acc: 75.00, Val_acc: 60.00, best_e: 78\n",
      "Epoch: 79/100, Loss: 0.569, Tr_acc: 75.00, Val_acc: 60.00, best_e: 79\n",
      "Epoch: 80/100, Loss: 0.568, Tr_acc: 75.00, Val_acc: 60.00, best_e: 80\n",
      "Epoch: 81/100, Loss: 0.569, Tr_acc: 72.50, Val_acc: 60.00, best_e: 81\n",
      "Epoch: 82/100, Loss: 0.567, Tr_acc: 72.50, Val_acc: 60.00, best_e: 82\n",
      "Epoch: 83/100, Loss: 0.564, Tr_acc: 73.75, Val_acc: 60.00, best_e: 83\n",
      "Epoch: 84/100, Loss: 0.563, Tr_acc: 75.00, Val_acc: 50.00, best_e: 83\n",
      "Epoch: 85/100, Loss: 0.562, Tr_acc: 76.25, Val_acc: 50.00, best_e: 83\n",
      "Epoch: 86/100, Loss: 0.560, Tr_acc: 75.00, Val_acc: 60.00, best_e: 86\n",
      "Epoch: 87/100, Loss: 0.559, Tr_acc: 76.25, Val_acc: 60.00, best_e: 87\n",
      "Epoch: 88/100, Loss: 0.559, Tr_acc: 75.00, Val_acc: 60.00, best_e: 88\n",
      "Epoch: 89/100, Loss: 0.558, Tr_acc: 73.75, Val_acc: 60.00, best_e: 89\n",
      "Epoch: 90/100, Loss: 0.556, Tr_acc: 75.00, Val_acc: 60.00, best_e: 90\n",
      "Epoch: 91/100, Loss: 0.555, Tr_acc: 76.25, Val_acc: 60.00, best_e: 91\n",
      "Epoch: 92/100, Loss: 0.554, Tr_acc: 76.25, Val_acc: 60.00, best_e: 92\n",
      "Epoch: 93/100, Loss: 0.555, Tr_acc: 76.25, Val_acc: 60.00, best_e: 93\n",
      "Epoch: 94/100, Loss: 0.553, Tr_acc: 75.00, Val_acc: 60.00, best_e: 94\n",
      "Epoch: 95/100, Loss: 0.552, Tr_acc: 73.75, Val_acc: 60.00, best_e: 95\n",
      "Epoch: 96/100, Loss: 0.553, Tr_acc: 73.75, Val_acc: 60.00, best_e: 96\n",
      "Epoch: 97/100, Loss: 0.552, Tr_acc: 75.00, Val_acc: 50.00, best_e: 96\n",
      "Epoch: 98/100, Loss: 0.550, Tr_acc: 75.00, Val_acc: 50.00, best_e: 96\n",
      "Epoch: 99/100, Loss: 0.549, Tr_acc: 75.00, Val_acc: 50.00, best_e: 96\n",
      "Epoch: 100/100, Loss: 0.549, Tr_acc: 75.00, Val_acc: 50.00, best_e: 96\n"
     ]
    },
    {
     "name": "stderr",
     "output_type": "stream",
     "text": [
      "c:\\Users\\rodga\\Documentos\\Escritorio\\logic_explained_networks\\lens\\models\\base.py:348: UserWarning: Loaded model does not have time or explanations. They need to be recalculated but time will only consider rule extraction time.\n",
      "  warnings.warn(\"Loaded model does not have time or explanations. \"\n"
     ]
    },
    {
     "data": {
      "text/html": [
       "<div>\n",
       "<style scoped>\n",
       "    .dataframe tbody tr th:only-of-type {\n",
       "        vertical-align: middle;\n",
       "    }\n",
       "\n",
       "    .dataframe tbody tr th {\n",
       "        vertical-align: top;\n",
       "    }\n",
       "\n",
       "    .dataframe thead th {\n",
       "        text-align: right;\n",
       "    }\n",
       "</style>\n",
       "<table border=\"1\" class=\"dataframe\">\n",
       "  <thead>\n",
       "    <tr style=\"text-align: right;\">\n",
       "      <th></th>\n",
       "      <th>Tot losses</th>\n",
       "      <th>Train accs</th>\n",
       "      <th>Val accs</th>\n",
       "      <th>Best epoch</th>\n",
       "    </tr>\n",
       "  </thead>\n",
       "  <tbody>\n",
       "    <tr>\n",
       "      <th>0</th>\n",
       "      <td>0.714975</td>\n",
       "      <td>38.75</td>\n",
       "      <td>40.0</td>\n",
       "      <td>96</td>\n",
       "    </tr>\n",
       "    <tr>\n",
       "      <th>1</th>\n",
       "      <td>0.761772</td>\n",
       "      <td>56.25</td>\n",
       "      <td>40.0</td>\n",
       "      <td>96</td>\n",
       "    </tr>\n",
       "    <tr>\n",
       "      <th>2</th>\n",
       "      <td>0.689471</td>\n",
       "      <td>56.25</td>\n",
       "      <td>30.0</td>\n",
       "      <td>96</td>\n",
       "    </tr>\n",
       "    <tr>\n",
       "      <th>3</th>\n",
       "      <td>0.687749</td>\n",
       "      <td>60.00</td>\n",
       "      <td>30.0</td>\n",
       "      <td>96</td>\n",
       "    </tr>\n",
       "    <tr>\n",
       "      <th>4</th>\n",
       "      <td>0.684423</td>\n",
       "      <td>57.50</td>\n",
       "      <td>40.0</td>\n",
       "      <td>96</td>\n",
       "    </tr>\n",
       "    <tr>\n",
       "      <th>...</th>\n",
       "      <td>...</td>\n",
       "      <td>...</td>\n",
       "      <td>...</td>\n",
       "      <td>...</td>\n",
       "    </tr>\n",
       "    <tr>\n",
       "      <th>95</th>\n",
       "      <td>0.552953</td>\n",
       "      <td>73.75</td>\n",
       "      <td>60.0</td>\n",
       "      <td>96</td>\n",
       "    </tr>\n",
       "    <tr>\n",
       "      <th>96</th>\n",
       "      <td>0.552154</td>\n",
       "      <td>75.00</td>\n",
       "      <td>50.0</td>\n",
       "      <td>96</td>\n",
       "    </tr>\n",
       "    <tr>\n",
       "      <th>97</th>\n",
       "      <td>0.549757</td>\n",
       "      <td>75.00</td>\n",
       "      <td>50.0</td>\n",
       "      <td>96</td>\n",
       "    </tr>\n",
       "    <tr>\n",
       "      <th>98</th>\n",
       "      <td>0.549234</td>\n",
       "      <td>75.00</td>\n",
       "      <td>50.0</td>\n",
       "      <td>96</td>\n",
       "    </tr>\n",
       "    <tr>\n",
       "      <th>99</th>\n",
       "      <td>0.549283</td>\n",
       "      <td>75.00</td>\n",
       "      <td>50.0</td>\n",
       "      <td>96</td>\n",
       "    </tr>\n",
       "  </tbody>\n",
       "</table>\n",
       "<p>100 rows × 4 columns</p>\n",
       "</div>"
      ],
      "text/plain": [
       "    Tot losses  Train accs  Val accs  Best epoch\n",
       "0     0.714975       38.75      40.0          96\n",
       "1     0.761772       56.25      40.0          96\n",
       "2     0.689471       56.25      30.0          96\n",
       "3     0.687749       60.00      30.0          96\n",
       "4     0.684423       57.50      40.0          96\n",
       "..         ...         ...       ...         ...\n",
       "95    0.552953       73.75      60.0          96\n",
       "96    0.552154       75.00      50.0          96\n",
       "97    0.549757       75.00      50.0          96\n",
       "98    0.549234       75.00      50.0          96\n",
       "99    0.549283       75.00      50.0          96\n",
       "\n",
       "[100 rows x 4 columns]"
      ]
     },
     "execution_count": 39,
     "metadata": {},
     "output_type": "execute_result"
    }
   ],
   "source": [
    "model.fit(train_data, val_data, \n",
    "          epochs=100, l_r=0.1)"
   ]
  },
  {
   "cell_type": "code",
   "execution_count": 40,
   "metadata": {},
   "outputs": [
    {
     "name": "stdout",
     "output_type": "stream",
     "text": [
      "Test accuracy: 50.0\n"
     ]
    }
   ],
   "source": [
    "## get accuracy on test samples\n",
    "test_acc = model.evaluate(test_data)\n",
    "print(\"Test accuracy:\", test_acc)"
   ]
  },
  {
   "cell_type": "markdown",
   "metadata": {},
   "source": [
    "## Extract and evaluate global explanation"
   ]
  },
  {
   "cell_type": "code",
   "execution_count": 41,
   "metadata": {
    "pycharm": {
     "name": "#%%\n"
    }
   },
   "outputs": [
    {
     "name": "stdout",
     "output_type": "stream",
     "text": [
      "(x1 & x4 & ~x3) | (~x1 & ~x3 & ~x4) <-> f1\n"
     ]
    }
   ],
   "source": [
    "## get first order logic explanations for a specific target class\n",
    "target_class = 1\n",
    "concept_names = ['x1', 'x2', 'x3', 'x4']\n",
    "\n",
    "formula = model.get_global_explanation(x_train, y_train, target_class,\n",
    "                                       top_k_explanations=2, \n",
    "                                       concept_names=concept_names)\n",
    "print(f\"{formula} <-> f{target_class}\")"
   ]
  },
  {
   "cell_type": "code",
   "execution_count": 17,
   "metadata": {},
   "outputs": [
    {
     "name": "stdout",
     "output_type": "stream",
     "text": [
      "Logic Test Accuracy: 100.0\n"
     ]
    }
   ],
   "source": [
    "## compute explanation accuracy\n",
    "exp_accuracy, _ = lens.logic.test_explanation(formula, target_class, x_test, y_test,\n",
    "                                              concept_names=concept_names)\n",
    "print(\"Logic Test Accuracy:\", exp_accuracy)"
   ]
  },
  {
   "cell_type": "markdown",
   "metadata": {},
   "source": [
    "## Plot decision boundaries and explanations"
   ]
  },
  {
   "cell_type": "code",
   "execution_count": 12,
   "metadata": {
    "pycharm": {
     "name": "#%%\n"
    }
   },
   "outputs": [],
   "source": [
    "import numpy as np\n",
    "import matplotlib.pyplot as plt\n",
    "\n",
    "\n",
    "def plot_decision_bundaries(model, x, h=0.1, cmap='BrBG'):\n",
    "    x1_min, x1_max = x[:, 0].min() - 1, x[:, 0].max() + 1\n",
    "    x2_min, x2_max = x[:, 1].min() - 1, x[:, 1].max() + 1\n",
    "    xx1, xx2 = np.meshgrid(np.arange(x1_min, x1_max, h),\n",
    "                           np.arange(x2_min, x2_max, h))\n",
    "    xx = torch.FloatTensor(np.c_[xx1.ravel(), xx2.ravel(), xx1.ravel(), xx2.ravel()])\n",
    "    Z = model(xx).argmax(dim=1).detach().numpy()\n",
    "    Z = Z.reshape(xx1.shape)\n",
    "    plt.contourf(xx1, xx2, Z, alpha=0.2, cmap=cmap)\n",
    "    return\n"
   ]
  },
  {
   "cell_type": "code",
   "execution_count": 13,
   "metadata": {
    "pycharm": {
     "name": "#%%\n"
    }
   },
   "outputs": [
    {
     "data": {
      "image/png": "[encoded data removed]",
      "text/plain": [
       "<Figure size 576x576 with 4 Axes>"
      ]
     },
     "metadata": {
      "needs_background": "light"
     },
     "output_type": "display_data"
    }
   ],
   "source": [
    "x = torch.as_tensor([[0.0, 0.0, 0.0, 0.0],\n",
    "                     [1.0, 0.0, 0.0, 0.0],\n",
    "                     [0.0, 1.0, 0.0, 0.0],\n",
    "                     [1.0, 1.0, 0.0, 0.0]])\n",
    "y = torch.as_tensor([0, 1, 1, 0])\n",
    "cmap = 'BrBG'\n",
    "plt.figure(figsize=[8, 8])\n",
    "for sample_id, (xin, yin) in enumerate(zip(x, y)):\n",
    "    output = model(xin.unsqueeze(dim=0))\n",
    "    explanation = model.get_local_explanation(x_train, y_train, xin, yin,\n",
    "                                              concept_names=concept_names)\n",
    "\n",
    "    plt.subplot(2, 2, sample_id + 1)\n",
    "    plt.title(f'INPUT={xin[:2].detach().numpy()} - OUTPUT={output.argmax(dim=1).detach().numpy()} '\n",
    "              f'\\n Explanation: {explanation} -> f{output.argmax()}')\n",
    "    plot_decision_bundaries(model, x, h=0.01)\n",
    "    plt.scatter(x[:, 0].detach().numpy(), x[:, 1].detach().numpy(), c=y.detach().numpy(), cmap=cmap)\n",
    "    plt.scatter(xin[0], xin[1], c='k', marker='x', s=100, cmap=cmap)\n",
    "    c = plt.Circle((xin[0], xin[1]), radius=0.2, edgecolor='k', fill=False, linestyle='--')\n",
    "    plt.gca().add_artist(c)\n",
    "    plt.xlim([-0.5, 1.5])\n",
    "    plt.ylim([-0.5, 1.5])\n",
    "plt.tight_layout()\n",
    "plt.show()"
   ]
  },
  {
   "cell_type": "code",
   "execution_count": 7,
   "metadata": {
    "pycharm": {
     "name": "#%%\n"
    }
   },
   "outputs": [],
   "source": []
  }
 ],
 "metadata": {
  "kernelspec": {
   "display_name": "Python 3",
   "language": "python",
   "name": "python3"
  },
  "language_info": {
   "codemirror_mode": {
    "name": "ipython",
    "version": 3
   },
   "file_extension": ".py",
   "mimetype": "text/x-python",
   "name": "python",
   "nbconvert_exporter": "python",
   "pygments_lexer": "ipython3",
   "version": "3.7.9"
  },
  "vscode": {
   "interpreter": {
    "hash": "8608183916a188497fe94207ad3128b6f60ed727dd98a51ac33bb04d1d1fc927"
   }
  }
 },
 "nbformat": 4,
 "nbformat_minor": 1
}
